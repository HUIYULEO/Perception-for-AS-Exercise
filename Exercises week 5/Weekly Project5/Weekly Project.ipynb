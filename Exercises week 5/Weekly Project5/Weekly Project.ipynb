{
 "cells": [
  {
   "cell_type": "markdown",
   "metadata": {},
   "source": [
    "# Weekly Project 5\n",
    "## Global Registration implementation.\n",
    "## Task 1\n",
    "Today your project is to implement a global registration algorithm.\n",
    "\n",
    "It should be able to roughly align two pointclouds.\n",
    "1. Implement global registration\n",
    "2. Can you fit **r1.pcd** and **r2.pcd**?\n",
    "3. Can you fit **car1.ply** and **car2.ply**?\n",
    "These are in the *global_registration* folder\n",
    "\n",
    "\n",
    "\n",
    "## Task 2 (Challange)\n",
    "Challanges attempt either or both:\n",
    "- Implement local registration.\n",
    "\n",
    "- Attempt to reconstruct the car from the images in *car_challange* folder.\n",
    "\n",
    "You can use the exercises from monday as a starting point."
   ]
  },
  {
   "cell_type": "code",
   "execution_count": 2,
   "metadata": {},
   "outputs": [
    {
     "name": "stdout",
     "output_type": "stream",
     "text": [
      "Jupyter environment detected. Enabling Open3D WebVisualizer.\n",
      "[Open3D INFO] WebRTC GUI backend enabled.\n",
      "[Open3D INFO] WebRTCWindowSystem: HTTP handshake server disabled.\n"
     ]
    }
   ],
   "source": [
    "###\n",
    "import open3d as o3d\n",
    "import numpy as np\n",
    "import copy\n",
    "import collections\n",
    "\n",
    "\n",
    "# helper function for drawing if you want it to be more clear which is which set recolor=True\n",
    "def draw_registrations(source, target, transformation = None, recolor = False):\n",
    "    source_temp = copy.deepcopy(source)\n",
    "    target_temp = copy.deepcopy(target)\n",
    "    if(recolor):\n",
    "        source_temp.paint_uniform_color([1, 0.706, 0])\n",
    "        target_temp.paint_uniform_color([0, 0.651, 0.929])\n",
    "    if(transformation is not None):\n",
    "        source_temp.transform(transformation)\n",
    "    o3d.visualization.draw_geometries([source_temp, target_temp])\n",
    "# Add code here    "
   ]
  },
  {
   "cell_type": "code",
   "execution_count": null,
   "metadata": {},
   "outputs": [],
   "source": [
    "def get_init_matches(feature_source, feature_target):\n",
    "    ##对 feature target fpfh 建立 kd—tree\n",
    "    fpfh_search_tree = o3d.geometry.KDTreeFlann(feature_target)\n",
    "    ##建立 pairs\n",
    "    _,N = feature_source.shape\n",
    "    matches = []\n",
    "    for i in range(N):\n",
    "        query = feature_source[:,i]\n",
    "        _, idx_nn_target, _ = fpfh_search_tree.search_knn_vector_xd(query, 1)   #source -> target\n",
    "        matches.append([i,idx_nn_target[0]])    #通过knn 寻找唯一 的 nearest points 一一配对 构建pair\n",
    "\n",
    "    matches = np.asarray(matches)\n",
    "    return  matches\n",
    "def global_registration_Ransac(source,target,feature_source,target_source):\n"
   ]
  },
  {
   "cell_type": "code",
   "execution_count": 10,
   "metadata": {},
   "outputs": [
    {
     "name": "stdout",
     "output_type": "stream",
     "text": [
      "PointCloud with 3440 points.\n"
     ]
    }
   ],
   "source": [
    "source = o3d.io.read_point_cloud(\"r1.pcd\")\n",
    "target = o3d.io.read_point_cloud(\"r2.pcd\")\n",
    "\n",
    "# Used for downsampling.\n",
    "voxel_size = 0.05\n",
    "source_down=source.voxel_down_sample(voxel_size)\n",
    "target_down=target.voxel_down_sample(voxel_size)\n",
    "\n",
    "idx_target = 3440\n",
    "idx_source = 4760\n",
    "\n",
    "print(target_down)\n",
    "# Show models side by side\n",
    "#draw_registrations(source, target)\n",
    "## 构建 kd-tree\n",
    "search_tree_source = o3d.geometry.KDTreeFlann(source_down)\n",
    "search_tree_target = o3d.geometry.KDTreeFlann(target_down)\n",
    "#step3 iss 特征点提取\n",
    "#keypoints_source = detect(pcd_source, search_tree_source, radius)\n",
    "#keypoints_target = detect(pcd_target, search_tree_target, radius)\n",
    "#step4 fpfh特征点描述 feature description\n",
    "#pcd_source_keypoints = pcd_source.select_by_index(keypoints_source['id'].values)\n",
    "##fpfh 进行 特征点描述\n",
    "# at here ,I just use all the data as feature point\n",
    "radius = 0.05\n"
   ]
  },
  {
   "cell_type": "code",
   "execution_count": null,
   "metadata": {},
   "outputs": [],
   "source": [
    "# find feature\n",
    "source.estimate_normals()\n",
    "target.estimate_normals()\n",
    "\n",
    "print(type(source))\n",
    "feature_source = o3d.pipelines.registration.compute_fpfh_feature(source_down, search_param = o3d.geometry.KDTreeSearchParamHybrid(radius=0.05, max_nn=100))\n",
    "feature_target = o3d.pipelines.registration.compute_fpfh_feature(target_down, search_param = o3d.geometry.KDTreeSearchParamHybrid(radius=0.05, max_nn=100))"
   ]
  },
  {
   "cell_type": "code",
   "execution_count": null,
   "metadata": {},
   "outputs": [],
   "source": [
    "#RANSAC configuration:\n",
    "RANSACParams = collections.namedtuple(\n",
    "    'RANSACParams',\n",
    "    [\n",
    "        'max_workers',\n",
    "        'num_samples',\n",
    "        'max_correspondence_distance', 'max_iteration', 'max_validation', 'max_refinement'\n",
    "    ]\n",
    ")\n",
    "# fast pruning algorithm configuration:\n",
    "CheckerParams = collections.namedtuple(\n",
    "    'CheckerParams',\n",
    "    ['max_correspondence_distance', 'max_edge_length_ratio', 'normal_angle_threshold']\n",
    ")\n",
    "# generate matches:\n",
    "distance_threshold_init = 1.5 * radius\n",
    "distance_threshold_final = 1.0 * radius\n",
    "\n",
    "#step5 RANSAC Registration,初配准、得到初始旋转、平移矩阵\n",
    "init_result  = global_registration_Ransac(\n",
    "    idx_target,idx_source,\n",
    "    source_down, target_down,\n",
    "    feature_source, feature_target,\n",
    "    ransac_params=RANSACParams(\n",
    "        max_workers=5,\n",
    "        num_samples=4,\n",
    "        max_correspondence_distance=distance_threshold_init,\n",
    "        max_iteration=100000,\n",
    "        max_validation=500,\n",
    "        max_refinement=30\n",
    "    ),\n",
    "    checker_params=CheckerParams(\n",
    "        max_correspondence_distance=distance_threshold_init,\n",
    "        max_edge_length_ratio=0.9,\n",
    "        normal_angle_threshold=None\n",
    "    )\n",
    ")\n",
    "\n"
   ]
  }
 ],
 "metadata": {
  "kernelspec": {
   "display_name": "Python 3 (ipykernel)",
   "language": "python",
   "name": "python3"
  },
  "language_info": {
   "codemirror_mode": {
    "name": "ipython",
    "version": 3
   },
   "file_extension": ".py",
   "mimetype": "text/x-python",
   "name": "python",
   "nbconvert_exporter": "python",
   "pygments_lexer": "ipython3",
   "version": "3.8.10"
  }
 },
 "nbformat": 4,
 "nbformat_minor": 4
}
