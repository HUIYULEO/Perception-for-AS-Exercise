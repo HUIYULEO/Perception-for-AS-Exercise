{
 "cells": [
  {
   "cell_type": "markdown",
   "metadata": {},
   "source": [
    "## weekly project\n",
    "### Intermediate step 1: \n",
    "Implement a function that takes two equal size images and calculates the sum of absolute differences. The two equal-sized images are nose_left.png (used as the template) and nose_right.png"
   ]
  },
  {
   "cell_type": "code",
   "execution_count": 2,
   "metadata": {},
   "outputs": [
    {
     "data": {
      "text/plain": [
       "<matplotlib.image.AxesImage at 0x7f473de0e520>"
      ]
     },
     "execution_count": 2,
     "metadata": {},
     "output_type": "execute_result"
    },
    {
     "data": {
      "image/png": "[encoded data removed]",
      "text/plain": [
       "<Figure size 432x288 with 1 Axes>"
      ]
     },
     "metadata": {
      "needs_background": "light"
     },
     "output_type": "display_data"
    }
   ],
   "source": [
    "import cv2\n",
    "from matplotlib import pyplot as plt\n",
    "import numpy as np\n",
    "plt.gray()\n",
    "\n",
    "img = cv2.imread('nose_right.png')\n",
    "img_right = cv2.cvtColor(img, cv2.COLOR_BGR2RGB)\n",
    "gray_right = cv2.cvtColor(img_right, cv2.COLOR_RGB2GRAY)\n",
    "\n",
    "plt.imshow(gray_right)"
   ]
  },
  {
   "cell_type": "code",
   "execution_count": 3,
   "metadata": {},
   "outputs": [
    {
     "name": "stdout",
     "output_type": "stream",
     "text": [
      "(7, 7)\n"
     ]
    },
    {
     "data": {
      "text/plain": [
       "<matplotlib.image.AxesImage at 0x7f473bd07f10>"
      ]
     },
     "execution_count": 3,
     "metadata": {},
     "output_type": "execute_result"
    },
    {
     "data": {
      "image/png": "[encoded data removed]",
      "text/plain": [
       "<Figure size 432x288 with 1 Axes>"
      ]
     },
     "metadata": {
      "needs_background": "light"
     },
     "output_type": "display_data"
    }
   ],
   "source": [
    "template = cv2.imread('nose_left.png')\n",
    "template = template[..., 0]\n",
    "print(template.shape)\n",
    "plt.imshow(template)"
   ]
  },
  {
   "cell_type": "code",
   "execution_count": 12,
   "metadata": {},
   "outputs": [
    {
     "name": "stdout",
     "output_type": "stream",
     "text": [
      "7657\n"
     ]
    }
   ],
   "source": [
    "def SAD (template,img):\n",
    "    List_diff = []\n",
    "    (h,w) = template.shape\n",
    "    for x in range(h):\n",
    "        for y in range(w):\n",
    "            #print(x)\n",
    "            List_diff.append(abs(int(template[x,y])-int(img[x,y])))\n",
    "    #print(List_diff)\n",
    "    return sum(List_diff)\n",
    "res = SAD(template, gray_right)\n",
    "print(res)"
   ]
  },
  {
   "cell_type": "markdown",
   "metadata": {},
   "source": [
    "### Intermediate step 2:\n",
    "\n",
    "Using the function you just created, find which of the three images nose1.png, nose2.png, nose3.png gives the best match to nose_left.png"
   ]
  },
  {
   "cell_type": "code",
   "execution_count": 5,
   "metadata": {},
   "outputs": [
    {
     "name": "stdout",
     "output_type": "stream",
     "text": [
      "[7993, 4371, 11054]\n",
      "the best is nose2\n"
     ]
    },
    {
     "name": "stderr",
     "output_type": "stream",
     "text": [
      "/tmp/ipykernel_9658/2761296366.py:7: RuntimeWarning: overflow encountered in ubyte_scalars\n",
      "  List_diff.append(abs(template[x,y]-img[x,y]))\n"
     ]
    }
   ],
   "source": [
    "nose1 = cv2.imread('nose1.png')\n",
    "nose2 = cv2.imread('nose2.png')\n",
    "nose3 = cv2.imread('nose3.png')\n",
    "\n",
    "gray_nose1 = cv2.cvtColor(nose1, cv2.COLOR_BGR2GRAY)\n",
    "gray_nose2 = cv2.cvtColor(nose2, cv2.COLOR_BGR2GRAY)\n",
    "gray_nose3 = cv2.cvtColor(nose3, cv2.COLOR_BGR2GRAY)\n",
    "gray_nose = [gray_nose1,gray_nose2,gray_nose3]\n",
    "\n",
    "res = []\n",
    "for i in range(3):\n",
    "    res.append(SAD(gray_nose[i], template))\n",
    "print(res)\n",
    "print('the best is nose' + str(res.index(min(res))+1)) \n"
   ]
  },
  {
   "cell_type": "markdown",
   "metadata": {},
   "source": [
    "### Intermediate step 3:\n",
    "\n",
    "Since these images are rectified, we can approximately assume that a pixel found in row x in the left image also lives in row x in the right image. nose_span.png contains the entire row containing the nose of the sculpture. The height of the span is 7 - the same height as your template. Write a function that loops through the image from left to right and computes the correlation using your function from step 1 to find where in the span the nose is located"
   ]
  },
  {
   "cell_type": "code",
   "execution_count": 31,
   "metadata": {},
   "outputs": [
    {
     "name": "stdout",
     "output_type": "stream",
     "text": [
      "133  356\n"
     ]
    },
    {
     "data": {
      "text/plain": [
       "<matplotlib.image.AxesImage at 0x7f473b5a8610>"
      ]
     },
     "execution_count": 31,
     "metadata": {},
     "output_type": "execute_result"
    },
    {
     "data": {
      "image/png": "[encoded data removed]",
      "text/plain": [
       "<Figure size 432x288 with 1 Axes>"
      ]
     },
     "metadata": {
      "needs_background": "light"
     },
     "output_type": "display_data"
    }
   ],
   "source": [
    "nose_span = cv2.imread('nose_span.png')\n",
    "gray_span = cv2.cvtColor(nose_span, cv2.COLOR_BGR2GRAY)\n",
    "gray_span1 = gray_span[:,0:7]\n",
    "\n",
    "def SPAN_SAD(template,gray_span):\n",
    "    res = []\n",
    "    (h,w) = gray_span.shape\n",
    "    i = 0\n",
    "    while i < w:\n",
    "        gray_span_slice = gray_span[:,i:i+7]\n",
    "        res.append(SAD(gray_span_slice,template))\n",
    "        i = i+7\n",
    "    min_sad = min(res)\n",
    "    min_loc = res.index(min(res))*7\n",
    "    return min_loc,min_sad\n",
    "loc_w, min_sad = SPAN_SAD(template, gray_span)   \n",
    "print(loc_w, '', min_sad)\n",
    "top_left = [loc_w,0]\n",
    "bottom_right = (top_left[0] + template.shape[1], template.shape[0])\n",
    "nose_res = cv2.rectangle(nose_span.copy(), top_left, bottom_right, (255,0,0), 3)\n",
    "plt.imshow(nose_res)\n",
    "#print(gray_span1.shape)\n",
    "\n"
   ]
  },
  {
   "cell_type": "markdown",
   "metadata": {},
   "source": [
    "### Full template matching implementation (Challenge):\n",
    "\n",
    "Write a template matching function that iteratively takes a 7x7 subpart (numpy calls this slicing) of tsukuba_left.png and uses your function from step 3 to apply it to the corresponding row in tsukuba_right.png and stores the lowest/best matching disparity value for that template. Continue until all possible templates for a row has been used before moving down to the next row in the image."
   ]
  },
  {
   "cell_type": "code",
   "execution_count": null,
   "metadata": {},
   "outputs": [],
   "source": []
  }
 ],
 "metadata": {
  "interpreter": {
   "hash": "31f2aee4e71d21fbe5cf8b01ff0e069b9275f58929596ceb00d14d90e3e16cd6"
  },
  "kernelspec": {
   "display_name": "Python 3 (ipykernel)",
   "language": "python",
   "name": "python3"
  },
  "language_info": {
   "codemirror_mode": {
    "name": "ipython",
    "version": 3
   },
   "file_extension": ".py",
   "mimetype": "text/x-python",
   "name": "python",
   "nbconvert_exporter": "python",
   "pygments_lexer": "ipython3",
   "version": "3.8.10"
  }
 },
 "nbformat": 4,
 "nbformat_minor": 2
}
