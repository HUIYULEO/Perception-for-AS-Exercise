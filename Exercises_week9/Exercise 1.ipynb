{
 "cells": [
  {
   "cell_type": "markdown",
   "metadata": {},
   "source": [
    "# Exercise 1 - 3D - 2D"
   ]
  },
  {
   "cell_type": "code",
   "execution_count": 1,
   "metadata": {},
   "outputs": [],
   "source": [
    "import numpy as np\n",
    "import cv2 as cv2\n",
    "from numpy.linalg import inv, pinv\n",
    "import matplotlib.pyplot as plt"
   ]
  },
  {
   "cell_type": "markdown",
   "metadata": {},
   "source": [
    "Recall from the slides the steps from Algorithm 3:\n",
    "\n",
    "![title](algorithm_3.png)\n",
    "\n",
    "![title](PnP.png)\n",
    "\n",
    "# Exercise 1a)\n",
    "The steps 1)-2.1) has already been done, and is saved in corresponding files. The exercise is to implement step 2.2) by filling in the missing code below"
   ]
  },
  {
   "cell_type": "code",
   "execution_count": 2,
   "metadata": {},
   "outputs": [],
   "source": [
    "def featureTracking(prev_img, next_img, prev_points, world_points):\n",
    "    \"\"\"\n",
    "    Use OpenCV to find the prev_points from the prev_img in the next_img\n",
    "    Remember to remove points that could not be found from prev_points, next_points, and world_points\n",
    "    hint: status == 1\n",
    "    \"\"\"\n",
    "    params = dict(winSize=(21, 21),\n",
    "                 maxLevel=3,\n",
    "                 criteria=(cv2.TERM_CRITERIA_EPS | cv2.TERM_CRITERIA_COUNT, 30, 0.01))\n",
    "    \n",
    "    #gray1 = cv2.cvtColor(img1, cv2.COLOR_RGB2GRAY)\n",
    "    #gray2 = cv2.cvtColor(img2, cv2.COLOR_RGB2GRAY)\n",
    "    next_points, status, error = cv2.calcOpticalFlowPyrLK(prev_img, next_img, prev_points, None)\n",
    "    \n",
    "    print(len(next_points))\n",
    "    print(len(world_points))\n",
    "    \n",
    "    return world_points, prev_points, next_points"
   ]
  },
  {
   "cell_type": "markdown",
   "metadata": {},
   "source": [
    "Hint: Exercise 4 in week 2\n",
    "\n",
    "# Exercise 1b)\n",
    "Continue the algorithm by implementing step 2.3)"
   ]
  },
  {
   "cell_type": "code",
   "execution_count": 3,
   "metadata": {},
   "outputs": [
    {
     "name": "stdout",
     "output_type": "stream",
     "text": [
      "631\n",
      "631\n",
      "[[ 1.79846957e-03]\n",
      " [-9.20677508e-06]\n",
      " [-1.75580210e-03]] [[0.00104125]\n",
      " [0.0240526 ]\n",
      " [0.00389811]]\n",
      "[0.00104125] [0.0240526] [0.00389811] [0.00179847] [-9.20677508e-06] [-0.0017558]\n",
      "621\n",
      "621\n",
      "[[-0.00215977]\n",
      " [ 0.00324729]\n",
      " [-0.00244215]] [[ 0.00161881]\n",
      " [ 0.00727388]\n",
      " [-0.67624344]]\n",
      "[0.00161881] [0.00727388] [-0.67624344] [-0.00215977] [0.00324729] [-0.00244215]\n",
      "602\n",
      "602\n",
      "[[-0.00364237]\n",
      " [ 0.0075533 ]\n",
      " [-0.00107669]] [[-0.00165431]\n",
      " [ 0.0101672 ]\n",
      " [-1.37821713]]\n",
      "[-0.00165431] [0.0101672] [-1.37821713] [-0.00364237] [0.0075533] [-0.00107669]\n",
      "625\n",
      "625\n",
      "[[-0.00512272]\n",
      " [ 0.01120987]\n",
      " [-0.00096131]] [[ 0.0075538 ]\n",
      " [ 0.01411576]\n",
      " [-2.09918335]]\n",
      "[0.0075538] [0.01411576] [-2.09918335] [-0.00512272] [0.01120987] [-0.00096131]\n",
      "666\n",
      "666\n",
      "[[-0.00564157]\n",
      " [ 0.01608441]\n",
      " [ 0.0004471 ]] [[ 0.00545962]\n",
      " [ 0.01907885]\n",
      " [-2.83423748]]\n",
      "[0.00545962] [0.01907885] [-2.83423748] [-0.00564157] [0.01608441] [0.0004471]\n"
     ]
    }
   ],
   "source": [
    "K = np.array([[7.188560e+02, 0.000000e+00, 6.071928e+02], # camera matrix\n",
    "              [0, 7.188560e+02, 1.852157e+02],\n",
    "              [0, 0, 1]])\n",
    "\n",
    "reference_img = np.load(\"img_\" + str(0) + \".npy\")\n",
    "\n",
    "for t in range(1, 6):\n",
    "\n",
    "    # the image at current time=t\n",
    "    curImage = np.load(\"img_\" + str(t) + \".npy\")\n",
    "    # the 3D landmarks in the world coordinates which have been computed in time=t-1\n",
    "    landmark_3D = np.load(\"landmark_\" + str(t-1) + \".npy\")\n",
    "    # the 2D coordinates of the 3D points in the previous frame at time=t-1\n",
    "    reference_2D = np.load(\"reference_2D_\" + str(t-1) + \".npy\")\n",
    "    \n",
    "    # the 2D landmarks at the current time = t\n",
    "    landmark_3D, reference_2D, tracked_2Dpoints = featureTracking(reference_img, \n",
    "                                                                  curImage, \n",
    "                                                                  reference_2D,\n",
    "                                                                  landmark_3D)\n",
    "    \n",
    "    \"\"\"\n",
    "    Using OpenCV, implement PnP using Ransac\n",
    "    \"\"\"\n",
    "    _, rvec, tvec, inliers = cv2.solvePnPRansac(landmark_3D, tracked_2Dpoints, K, distCoeffs=None)\n",
    "    print(rvec, tvec)\n",
    "\n",
    "    \"\"\"\n",
    "    Transform the translation and rotation into the world frame\n",
    "    \"\"\"\n",
    "    print(tvec[0], tvec[1], tvec[2], rvec[0], rvec[1], rvec[2])\n",
    "    R, _ = cv2.Rodrigues(rvec)\n",
    "    T = -tvec[:, 0]\n",
    "\n",
    "    # update for next timestep\n",
    "    reference_img = curImage"
   ]
  },
  {
   "cell_type": "markdown",
   "metadata": {},
   "source": [
    "Hint: The output should look similar to:\n",
    "\n",
    "[-0.00110282] [-0.00067164] [-0.00078343] [-7.40069212e-05] [-7.35119065e-05] [9.84544279e-05]\n",
    "\n",
    "[-0.00363946] [-0.00875075] [0.67580842] [-0.0021666] [0.00325853] [-0.00244333]\n",
    "\n",
    "[-0.01096271] [-0.01635663] [1.3774094] [-0.00364615] [0.0075151] [-0.00099691]\n",
    "\n",
    "[-0.0315663] [-0.02560111] [2.0996797] [-0.00509583] [0.01121646] [-0.00082978]\n",
    "\n",
    "[-0.04971858] [-0.03532535] [2.8330071] [-0.00561424] [0.0161333] [0.00041981]"
   ]
  },
  {
   "cell_type": "markdown",
   "metadata": {},
   "source": [
    "# Exercise 1c)\n",
    "What approximate direction did the camera move in?"
   ]
  },
  {
   "cell_type": "code",
   "execution_count": null,
   "metadata": {},
   "outputs": [],
   "source": []
  }
 ],
 "metadata": {
  "kernelspec": {
   "display_name": "Python 3 (ipykernel)",
   "language": "python",
   "name": "python3"
  },
  "language_info": {
   "codemirror_mode": {
    "name": "ipython",
    "version": 3
   },
   "file_extension": ".py",
   "mimetype": "text/x-python",
   "name": "python",
   "nbconvert_exporter": "python",
   "pygments_lexer": "ipython3",
   "version": "3.8.10"
  }
 },
 "nbformat": 4,
 "nbformat_minor": 2
}
